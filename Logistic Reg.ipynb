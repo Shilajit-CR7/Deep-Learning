{
 "cells": [
  {
   "cell_type": "code",
   "execution_count": 150,
   "id": "55efb3c4",
   "metadata": {
    "ExecuteTime": {
     "end_time": "2022-12-09T17:11:13.064685Z",
     "start_time": "2022-12-09T17:11:13.055714Z"
    }
   },
   "outputs": [],
   "source": [
    "import torch\n",
    "import torchvision\n",
    "from torchvision.datasets import MNIST"
   ]
  },
  {
   "cell_type": "code",
   "execution_count": 151,
   "id": "f84239e4",
   "metadata": {
    "ExecuteTime": {
     "end_time": "2022-12-09T17:11:13.110054Z",
     "start_time": "2022-12-09T17:11:13.066680Z"
    }
   },
   "outputs": [],
   "source": [
    "dataset = MNIST(root='data/', download=True)"
   ]
  },
  {
   "cell_type": "code",
   "execution_count": 152,
   "id": "bedb2916",
   "metadata": {
    "ExecuteTime": {
     "end_time": "2022-12-09T17:11:13.126003Z",
     "start_time": "2022-12-09T17:11:13.113044Z"
    }
   },
   "outputs": [],
   "source": [
    "import numpy as np\n",
    "import pandas as pd\n",
    "import matplotlib.pyplot as plt \n",
    "%matplotlib inline "
   ]
  },
  {
   "cell_type": "code",
   "execution_count": 153,
   "id": "fe695590",
   "metadata": {
    "ExecuteTime": {
     "end_time": "2022-12-09T17:11:13.141947Z",
     "start_time": "2022-12-09T17:11:13.128991Z"
    }
   },
   "outputs": [
    {
     "data": {
      "text/plain": [
       "60000"
      ]
     },
     "execution_count": 153,
     "metadata": {},
     "output_type": "execute_result"
    }
   ],
   "source": [
    "len(dataset)"
   ]
  },
  {
   "cell_type": "code",
   "execution_count": 154,
   "id": "0ca14bf1",
   "metadata": {
    "ExecuteTime": {
     "end_time": "2022-12-09T17:11:13.172853Z",
     "start_time": "2022-12-09T17:11:13.144937Z"
    }
   },
   "outputs": [
    {
     "data": {
      "text/plain": [
       "10000"
      ]
     },
     "execution_count": 154,
     "metadata": {},
     "output_type": "execute_result"
    }
   ],
   "source": [
    "test_data = MNIST(root='data/',train=False)\n",
    "len(test_data)"
   ]
  },
  {
   "cell_type": "code",
   "execution_count": 155,
   "id": "a8e69c62",
   "metadata": {
    "ExecuteTime": {
     "end_time": "2022-12-09T17:11:13.188003Z",
     "start_time": "2022-12-09T17:11:13.175839Z"
    }
   },
   "outputs": [
    {
     "data": {
      "text/plain": [
       "(<PIL.Image.Image image mode=L size=28x28>, 5)"
      ]
     },
     "execution_count": 155,
     "metadata": {},
     "output_type": "execute_result"
    }
   ],
   "source": [
    "dataset[0]"
   ]
  },
  {
   "cell_type": "code",
   "execution_count": 156,
   "id": "2c3886aa",
   "metadata": {
    "ExecuteTime": {
     "end_time": "2022-12-09T17:11:13.296334Z",
     "start_time": "2022-12-09T17:11:13.191330Z"
    }
   },
   "outputs": [
    {
     "data": {
      "text/plain": [
       "<matplotlib.image.AxesImage at 0x20e0988c0d0>"
      ]
     },
     "execution_count": 156,
     "metadata": {},
     "output_type": "execute_result"
    },
    {
     "data": {
      "image/png": "[encoded data removed]",
      "text/plain": [
       "<Figure size 200x200 with 1 Axes>"
      ]
     },
     "metadata": {},
     "output_type": "display_data"
    }
   ],
   "source": [
    "plt.figure(figsize=(2,2))\n",
    "plt.imshow(dataset[2][0])"
   ]
  },
  {
   "cell_type": "code",
   "execution_count": 157,
   "id": "9704c4e2",
   "metadata": {
    "ExecuteTime": {
     "end_time": "2022-12-09T17:11:13.312298Z",
     "start_time": "2022-12-09T17:11:13.299325Z"
    }
   },
   "outputs": [],
   "source": [
    "import torchvision.transforms as transforms"
   ]
  },
  {
   "cell_type": "code",
   "execution_count": 158,
   "id": "3b012597",
   "metadata": {
    "ExecuteTime": {
     "end_time": "2022-12-09T17:11:13.358125Z",
     "start_time": "2022-12-09T17:11:13.315379Z"
    }
   },
   "outputs": [],
   "source": [
    "train_data = MNIST(root='data/',train=True,transform=transforms.ToTensor())"
   ]
  },
  {
   "cell_type": "code",
   "execution_count": 159,
   "id": "58c439a3",
   "metadata": {
    "ExecuteTime": {
     "end_time": "2022-12-09T17:11:13.373075Z",
     "start_time": "2022-12-09T17:11:13.362112Z"
    }
   },
   "outputs": [
    {
     "name": "stdout",
     "output_type": "stream",
     "text": [
      "torch.Size([1, 28, 28]) 5\n"
     ]
    }
   ],
   "source": [
    "img_tensor,label = train_data[0]\n",
    "print(img_tensor.shape,label)"
   ]
  },
  {
   "cell_type": "code",
   "execution_count": 160,
   "id": "85d80a85",
   "metadata": {
    "ExecuteTime": {
     "end_time": "2022-12-09T17:11:13.388315Z",
     "start_time": "2022-12-09T17:11:13.376065Z"
    }
   },
   "outputs": [
    {
     "name": "stdout",
     "output_type": "stream",
     "text": [
      "tensor([[0.7294, 0.9922, 0.9922, 0.5882, 0.1059],\n",
      "        [0.0627, 0.3647, 0.9882, 0.9922, 0.7333],\n",
      "        [0.0000, 0.0000, 0.9765, 0.9922, 0.9765],\n",
      "        [0.5098, 0.7176, 0.9922, 0.9922, 0.8118],\n",
      "        [0.9922, 0.9922, 0.9922, 0.9804, 0.7137]])\n"
     ]
    }
   ],
   "source": [
    "print(img_tensor[0,15:20,15:20])"
   ]
  },
  {
   "cell_type": "code",
   "execution_count": 161,
   "id": "cab4fe25",
   "metadata": {
    "ExecuteTime": {
     "end_time": "2022-12-09T17:11:13.574824Z",
     "start_time": "2022-12-09T17:11:13.391786Z"
    }
   },
   "outputs": [
    {
     "data": {
      "text/plain": [
       "<matplotlib.image.AxesImage at 0x20e06276620>"
      ]
     },
     "execution_count": 161,
     "metadata": {},
     "output_type": "execute_result"
    },
    {
     "data": {
      "image/png": "[encoded data removed]",
      "text/plain": [
       "<Figure size 640x480 with 1 Axes>"
      ]
     },
     "metadata": {},
     "output_type": "display_data"
    }
   ],
   "source": [
    "plt.imshow(img_tensor[0,10:25,10:30])"
   ]
  },
  {
   "cell_type": "code",
   "execution_count": 162,
   "id": "3bf0ee1c",
   "metadata": {
    "ExecuteTime": {
     "end_time": "2022-12-09T17:11:13.590644Z",
     "start_time": "2022-12-09T17:11:13.576848Z"
    }
   },
   "outputs": [
    {
     "data": {
      "text/plain": [
       "(50000, 10000)"
      ]
     },
     "execution_count": 162,
     "metadata": {},
     "output_type": "execute_result"
    }
   ],
   "source": [
    "#Train and Validation set split \n",
    "from torch.utils.data import random_split\n",
    "train,validation = random_split(train_data,[50000,10000])\n",
    "len(train),len(validation)"
   ]
  },
  {
   "cell_type": "code",
   "execution_count": 163,
   "id": "73531968",
   "metadata": {
    "ExecuteTime": {
     "end_time": "2022-12-09T17:11:13.605982Z",
     "start_time": "2022-12-09T17:11:13.593200Z"
    }
   },
   "outputs": [],
   "source": [
    "from torch.utils.data import DataLoader\n",
    "train_dataload = DataLoader(train,batch_size=128,shuffle=True)\n",
    "validation_dataload = DataLoader(validation,batch_size=128,shuffle=True)"
   ]
  },
  {
   "cell_type": "code",
   "execution_count": 175,
   "id": "e3096e4d",
   "metadata": {
    "ExecuteTime": {
     "end_time": "2022-12-09T17:15:27.598214Z",
     "start_time": "2022-12-09T17:15:27.593234Z"
    }
   },
   "outputs": [],
   "source": [
    "import torch.nn as nn\n",
    "\n",
    "input_size = 28*28\n",
    "num_classes = 10\n",
    "model = nn.Linear(input_size,num_classes)"
   ]
  },
  {
   "cell_type": "code",
   "execution_count": 176,
   "id": "419ac7a0",
   "metadata": {
    "ExecuteTime": {
     "end_time": "2022-12-09T17:15:27.815182Z",
     "start_time": "2022-12-09T17:15:27.805216Z"
    }
   },
   "outputs": [
    {
     "data": {
      "text/plain": [
       "torch.Size([10])"
      ]
     },
     "execution_count": 176,
     "metadata": {},
     "output_type": "execute_result"
    }
   ],
   "source": [
    "list(model.parameters())\n",
    "model.bias.shape"
   ]
  },
  {
   "cell_type": "code",
   "execution_count": 177,
   "id": "2f21afb5",
   "metadata": {
    "ExecuteTime": {
     "end_time": "2022-12-09T17:15:28.063555Z",
     "start_time": "2022-12-09T17:15:28.023691Z"
    }
   },
   "outputs": [
    {
     "name": "stdout",
     "output_type": "stream",
     "text": [
      "tensor([4, 3, 4, 4, 9, 4, 6, 9, 9, 9, 0, 8, 1, 7, 1, 8, 3, 8, 3, 2, 9, 1, 8, 6,\n",
      "        0, 9, 2, 9, 3, 2, 6, 5, 4, 7, 1, 2, 7, 4, 9, 5, 4, 1, 4, 6, 4, 3, 7, 9,\n",
      "        9, 3, 2, 3, 5, 6, 9, 1, 6, 5, 7, 1, 3, 3, 5, 4, 5, 2, 2, 4, 9, 4, 6, 6,\n",
      "        5, 3, 7, 5, 6, 5, 4, 5, 9, 4, 4, 7, 3, 0, 6, 1, 1, 6, 9, 0, 2, 6, 0, 8,\n",
      "        6, 5, 6, 6, 8, 4, 8, 4, 9, 0, 2, 3, 7, 0, 2, 9, 0, 0, 1, 9, 2, 0, 5, 5,\n",
      "        2, 8, 3, 8, 0, 4, 0, 2])\n",
      "torch.Size([128, 1, 28, 28])\n"
     ]
    }
   ],
   "source": [
    "for images,labels in train_dataload:\n",
    "    print(labels)\n",
    "    print(images.shape)\n",
    "    break"
   ]
  },
  {
   "cell_type": "code",
   "execution_count": 178,
   "id": "2c0e509f",
   "metadata": {
    "ExecuteTime": {
     "end_time": "2022-12-09T17:15:28.559156Z",
     "start_time": "2022-12-09T17:15:28.550253Z"
    }
   },
   "outputs": [
    {
     "data": {
      "text/plain": [
       "torch.Size([128, 1, 28, 28])"
      ]
     },
     "execution_count": 178,
     "metadata": {},
     "output_type": "execute_result"
    }
   ],
   "source": [
    "images.shape"
   ]
  },
  {
   "cell_type": "code",
   "execution_count": 188,
   "id": "bbe52847",
   "metadata": {
    "ExecuteTime": {
     "end_time": "2022-12-09T17:17:09.442166Z",
     "start_time": "2022-12-09T17:17:09.436186Z"
    }
   },
   "outputs": [],
   "source": [
    "images = images.reshape(-1,784)"
   ]
  },
  {
   "cell_type": "code",
   "execution_count": 189,
   "id": "b015136d",
   "metadata": {
    "ExecuteTime": {
     "end_time": "2022-12-09T17:17:09.675869Z",
     "start_time": "2022-12-09T17:17:09.665898Z"
    }
   },
   "outputs": [
    {
     "data": {
      "text/plain": [
       "torch.Size([128, 784])"
      ]
     },
     "execution_count": 189,
     "metadata": {},
     "output_type": "execute_result"
    }
   ],
   "source": [
    "images.shape"
   ]
  },
  {
   "cell_type": "code",
   "execution_count": 207,
   "id": "340a704f",
   "metadata": {
    "ExecuteTime": {
     "end_time": "2022-12-09T17:25:52.988800Z",
     "start_time": "2022-12-09T17:25:52.949000Z"
    }
   },
   "outputs": [
    {
     "name": "stdout",
     "output_type": "stream",
     "text": [
      "torch.Size([128, 1, 28, 28])\n"
     ]
    }
   ],
   "source": [
    "for images,labels in train_dataload:\n",
    "    print(images.shape)\n",
    "    images = images.reshape(128,784) #Batch size = 128\n",
    "    ypred = model(images)\n",
    "    break"
   ]
  },
  {
   "cell_type": "code",
   "execution_count": 208,
   "id": "0e612c63",
   "metadata": {
    "ExecuteTime": {
     "end_time": "2022-12-09T17:25:53.856435Z",
     "start_time": "2022-12-09T17:25:53.846531Z"
    }
   },
   "outputs": [
    {
     "data": {
      "text/plain": [
       "torch.Size([128, 10])"
      ]
     },
     "execution_count": 208,
     "metadata": {},
     "output_type": "execute_result"
    }
   ],
   "source": [
    "ypred.shape"
   ]
  },
  {
   "cell_type": "code",
   "execution_count": 206,
   "id": "2505a149",
   "metadata": {
    "ExecuteTime": {
     "end_time": "2022-12-09T17:25:35.283947Z",
     "start_time": "2022-12-09T17:25:35.269994Z"
    }
   },
   "outputs": [
    {
     "data": {
      "text/plain": [
       "tensor(-1.2986, grad_fn=<AddBackward0>)"
      ]
     },
     "execution_count": 206,
     "metadata": {},
     "output_type": "execute_result"
    }
   ],
   "source": [
    "sum(ypred[0])"
   ]
  },
  {
   "cell_type": "code",
   "execution_count": null,
   "id": "659c5c7a",
   "metadata": {},
   "outputs": [],
   "source": []
  },
  {
   "cell_type": "code",
   "execution_count": null,
   "id": "75236142",
   "metadata": {},
   "outputs": [],
   "source": []
  },
  {
   "cell_type": "code",
   "execution_count": null,
   "id": "0a023865",
   "metadata": {},
   "outputs": [],
   "source": []
  },
  {
   "cell_type": "code",
   "execution_count": null,
   "id": "1e8bd671",
   "metadata": {},
   "outputs": [],
   "source": []
  },
  {
   "cell_type": "code",
   "execution_count": null,
   "id": "2703b4f0",
   "metadata": {},
   "outputs": [],
   "source": []
  }
 ],
 "metadata": {
  "kernelspec": {
   "display_name": "Python 3 (ipykernel)",
   "language": "python",
   "name": "python3"
  },
  "language_info": {
   "codemirror_mode": {
    "name": "ipython",
    "version": 3
   },
   "file_extension": ".py",
   "mimetype": "text/x-python",
   "name": "python",
   "nbconvert_exporter": "python",
   "pygments_lexer": "ipython3",
   "version": "3.10.7"
  }
 },
 "nbformat": 4,
 "nbformat_minor": 5
}
